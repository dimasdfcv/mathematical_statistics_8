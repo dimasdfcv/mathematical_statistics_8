{
 "cells": [
  {
   "cell_type": "markdown",
   "metadata": {},
   "source": [
    "## Задача 3.\n",
    "Известно, что рост футболистов в сборной распределен нормально с дисперсией генеральной совокупности, равной 25 кв.см.  \n",
    "Объем выборки равен 27, среднее выборочное составляет 174.2.  \n",
    "Найдите доверительный интервал для математического ожидания с надежностью 0.95.  \n",
    "\n",
    "Нам известны и среднее и дисперсия генеральной совокупности, соответственно для проверки гипотезы будем использовать $z$-критерий.  \n",
    "Формула нахождения доверительного интервала  \n",
    "  \n",
    "$\\bar X\\pm z_{\\alpha/2}\\cdot\\frac{\\sigma}{\\sqrt n}$   \n",
    "\n",
    "Размер выборки: $n=27$  \n",
    "Среднее значение выборки: $\\bar X=174.2$  \n",
    "Среднее квадратическое отклонение генеральной совокупности: $\\sigma=\\sqrt{D(X)}=\\sqrt {25}=5$  "
   ]
  },
  {
   "cell_type": "code",
   "execution_count": 10,
   "metadata": {},
   "outputs": [],
   "source": [
    "from scipy import stats"
   ]
  },
  {
   "cell_type": "code",
   "execution_count": 11,
   "metadata": {},
   "outputs": [
    {
     "name": "stdout",
     "output_type": "stream",
     "text": [
      "Доверительный интервал: [172.314; 176.086]\n"
     ]
    }
   ],
   "source": [
    "p = 0.95\n",
    "n = 27\n",
    "x = 174.2\n",
    "d = 25\n",
    "sigma = d**0.5\n",
    "alpha = 1 - p\n",
    "za = stats.norm.ppf(1 - alpha / 2)\n",
    "\n",
    "l1 = x - za * sigma / n**0.5\n",
    "l2 = x + za * sigma / n**0.5\n",
    "print(f'Доверительный интервал: [{round(l1, 4)}; {round(l2, 4)}]')\n"
   ]
  }
 ],
 "metadata": {
  "kernelspec": {
   "display_name": "Python 3",
   "language": "python",
   "name": "python3"
  },
  "language_info": {
   "codemirror_mode": {
    "name": "ipython",
    "version": 3
   },
   "file_extension": ".py",
   "mimetype": "text/x-python",
   "name": "python",
   "nbconvert_exporter": "python",
   "pygments_lexer": "ipython3",
   "version": "3.11.7"
  }
 },
 "nbformat": 4,
 "nbformat_minor": 2
}
