{
 "cells": [
  {
   "cell_type": "markdown",
   "metadata": {},
   "source": [
    "## Задача 2.\n",
    "Измерены значения IQ выборки студентов, обучающихся в местных технических вузах:  \n",
    "131, 125, 115, 122, 131, 115, 107, 99, 125, 111.  \n",
    "Известно, что в генеральной совокупности IQ распределен нормально.  \n",
    "Найдите доверительный интервал для математического ожидания с надежностью 0.95.  \n",
    "\n",
    "Так как дисперсия генеральной совокупности неизвестна, вычисляем ее по выборке, используя формулу для несмещенного стандартного отклонения.   \n",
    "  \n",
    "$\\displaystyle\\bar X\\pm t_{\\alpha/2}\\cdot\\frac{\\sigma}{\\sqrt{n}}$  \n",
    "\n",
    "\n",
    "Размер выборки: $n=10$,  $\\alpha=0,05$   "
   ]
  },
  {
   "cell_type": "code",
   "execution_count": 1,
   "metadata": {},
   "outputs": [],
   "source": [
    "import numpy as np\n",
    "import scipy.stats as stats"
   ]
  },
  {
   "cell_type": "code",
   "execution_count": 2,
   "metadata": {},
   "outputs": [
    {
     "name": "stdout",
     "output_type": "stream",
     "text": [
      "Среднее арифметическое выборки: 118.1\n"
     ]
    }
   ],
   "source": [
    "arr = [131, 125, 115, 122, 131, 115, 107, 99, 125, 111]\n",
    "n = 10\n",
    "x = np.mean(arr)\n",
    "print(f'Среднее арифметическое выборки: {round(x, 4)}')"
   ]
  },
  {
   "cell_type": "code",
   "execution_count": 3,
   "metadata": {},
   "outputs": [
    {
     "name": "stdout",
     "output_type": "stream",
     "text": [
      "Среднее квадратическое отклонение по выборке: 10.5457\n"
     ]
    }
   ],
   "source": [
    "sigma = np.std(arr, ddof = 1)\n",
    "print(f'Среднее квадратическое отклонение по выборке: {round(sigma, 4)}')"
   ]
  },
  {
   "cell_type": "code",
   "execution_count": 7,
   "metadata": {},
   "outputs": [
    {
     "name": "stdout",
     "output_type": "stream",
     "text": [
      "Значение t-критерия для 0.95% доверительного интервала: 10.5457\n"
     ]
    }
   ],
   "source": [
    "alpha = 0.05\n",
    "za = stats.t.ppf(1 - alpha / 2, n - 1)\n",
    "print(f'Значение t-критерия для {1 - alpha}% доверительного интервала: {round(sigma, 4)}')"
   ]
  },
  {
   "cell_type": "code",
   "execution_count": 5,
   "metadata": {},
   "outputs": [
    {
     "name": "stdout",
     "output_type": "stream",
     "text": [
      "Доверительный интервал: [110.5561; 125.6439]\n"
     ]
    }
   ],
   "source": [
    "l1 = x - za * sigma / n**0.5\n",
    "l2 = x + za * sigma / n**0.5\n",
    "print(f'Доверительный интервал: [{round(l1, 4)}; {round(l2, 4)}]')"
   ]
  }
 ],
 "metadata": {
  "kernelspec": {
   "display_name": "Python 3",
   "language": "python",
   "name": "python3"
  },
  "language_info": {
   "codemirror_mode": {
    "name": "ipython",
    "version": 3
   },
   "file_extension": ".py",
   "mimetype": "text/x-python",
   "name": "python",
   "nbconvert_exporter": "python",
   "pygments_lexer": "ipython3",
   "version": "3.11.7"
  }
 },
 "nbformat": 4,
 "nbformat_minor": 2
}
